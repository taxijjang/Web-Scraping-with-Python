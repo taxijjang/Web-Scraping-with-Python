{
 "cells": [
  {
   "cell_type": "code",
   "execution_count": 1,
   "metadata": {},
   "outputs": [],
   "source": [
    "import requests\n",
    "from bs4 import BeautifulSoup"
   ]
  },
  {
   "cell_type": "code",
   "execution_count": 2,
   "metadata": {},
   "outputs": [],
   "source": [
    "res = requests.get('https://media.daum.net/digital')\n",
    "soup = BeautifulSoup(res.content,'html.parser')"
   ]
  },
  {
   "cell_type": "code",
   "execution_count": 3,
   "metadata": {},
   "outputs": [],
   "source": [
    "data = soup.find_all('a','#article_main')"
   ]
  },
  {
   "cell_type": "code",
   "execution_count": 4,
   "metadata": {
    "scrolled": true
   },
   "outputs": [
    {
     "name": "stdout",
     "output_type": "stream",
     "text": [
      "넷플릭스, 글로벌 가입자 1억5천만명 돌파..성장세는 주춤\n",
      "美하원도 페이스북 암호화폐 집중 포화..\"시대적 흐름\" 목소리도\n",
      "'우주담요'서 '해썹'까지 아폴로 기술 일상 곳곳에 녹아있어\n",
      "\"암세포에 대한 면역세포 공격력 높이는 유전자가위 기술 개발\"\n",
      "정부, 연구하는 의사 '의사과학자' 양성한다\n"
     ]
    }
   ],
   "source": [
    "for d in data :\n",
    "    print(d.get_text())"
   ]
  },
  {
   "cell_type": "code",
   "execution_count": null,
   "metadata": {},
   "outputs": [],
   "source": []
  },
  {
   "cell_type": "code",
   "execution_count": 5,
   "metadata": {},
   "outputs": [],
   "source": [
    "import requests\n",
    "from bs4 import BeautifulSoup"
   ]
  },
  {
   "cell_type": "code",
   "execution_count": 6,
   "metadata": {},
   "outputs": [],
   "source": [
    "res = requests.get('https://www.daum.net/?nil_profile=mini&nil_src=daum')\n",
    "soup = BeautifulSoup(res.content,'html.parser')"
   ]
  },
  {
   "cell_type": "code",
   "execution_count": 7,
   "metadata": {},
   "outputs": [],
   "source": [
    "data = soup.find_all('a',attrs = {'class':'link_issue','tabindex':'-1'})"
   ]
  },
  {
   "cell_type": "code",
   "execution_count": 8,
   "metadata": {},
   "outputs": [],
   "source": [
    "i = 0\n",
    "j = 0"
   ]
  },
  {
   "cell_type": "code",
   "execution_count": 9,
   "metadata": {},
   "outputs": [
    {
     "name": "stdout",
     "output_type": "stream",
     "text": [
      "1 노노재팬\n",
      "2 정병국\n",
      "3 최순실\n",
      "4 신유용\n",
      "5 신동호\n",
      "6 밴쯔\n",
      "7 의사 요한\n",
      "8 김사무엘\n",
      "9 김혜은\n",
      "10 최종구\n"
     ]
    }
   ],
   "source": [
    "for d in data:\n",
    "    i = i +1\n",
    "    print(i, d.get_text())"
   ]
  },
  {
   "cell_type": "code",
   "execution_count": null,
   "metadata": {},
   "outputs": [],
   "source": []
  },
  {
   "cell_type": "code",
   "execution_count": 10,
   "metadata": {},
   "outputs": [],
   "source": [
    "import requests\n",
    "from bs4 import BeautifulSoup"
   ]
  },
  {
   "cell_type": "code",
   "execution_count": 11,
   "metadata": {},
   "outputs": [],
   "source": [
    "res = requests.get('https://www.naver.com')\n",
    "soup = BeautifulSoup(res.content,'html.parser')"
   ]
  },
  {
   "cell_type": "code",
   "execution_count": 12,
   "metadata": {},
   "outputs": [],
   "source": [
    "data = soup.find('div',attrs={'class':'ah_roll_area PM_CL_realtimeKeyword_rolling'})"
   ]
  },
  {
   "cell_type": "code",
   "execution_count": 13,
   "metadata": {},
   "outputs": [],
   "source": [
    "items = data.find_all('span','ah_k')"
   ]
  },
  {
   "cell_type": "code",
   "execution_count": 14,
   "metadata": {},
   "outputs": [
    {
     "name": "stdout",
     "output_type": "stream",
     "text": [
      "노노재팬\n",
      "밴쯔\n",
      "정병국\n",
      "태풍경로\n",
      "김사무엘\n",
      "구형\n",
      "최종구\n",
      "11번가 라이온킹\n",
      "신유용\n",
      "쿄애니\n",
      "최순실\n",
      "헤이딜러 사고이력 공짜\n",
      "신입사관 구해령\n",
      "태풍 다나스\n",
      "위메프 빕스천원\n",
      "도티\n",
      "예학영\n",
      "백악관 최후의 날\n",
      "톰 홀랜드 여자친구\n",
      "다나스\n"
     ]
    }
   ],
   "source": [
    "for i in items:\n",
    "    print(i.get_text())"
   ]
  },
  {
   "cell_type": "code",
   "execution_count": null,
   "metadata": {},
   "outputs": [],
   "source": []
  }
 ],
 "metadata": {
  "kernelspec": {
   "display_name": "Python 3",
   "language": "python",
   "name": "python3"
  },
  "language_info": {
   "codemirror_mode": {
    "name": "ipython",
    "version": 3
   },
   "file_extension": ".py",
   "mimetype": "text/x-python",
   "name": "python",
   "nbconvert_exporter": "python",
   "pygments_lexer": "ipython3",
   "version": "3.7.3"
  }
 },
 "nbformat": 4,
 "nbformat_minor": 2
}
